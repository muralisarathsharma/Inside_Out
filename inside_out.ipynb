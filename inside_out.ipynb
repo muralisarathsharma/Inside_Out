{
 "cells": [
  {
   "cell_type": "code",
   "execution_count": null,
   "id": "00ad5432",
   "metadata": {},
   "outputs": [],
   "source": []
  },
  {
   "cell_type": "code",
   "execution_count": 89,
   "id": "1ca1f2a1",
   "metadata": {},
   "outputs": [],
   "source": [
    "class inside_out:\n",
    "    \n",
    "    def __init__(self):\n",
    "        self.n = int(input(\"enter number of players:\"))\n",
    "        self.p_names=[]\n",
    "        self.player_range = {}\n",
    "        for i in range(self.n):\n",
    "            self.p_names.append(input(f\"enter player{i+1} name:\"))\n",
    "        print(\"lets begin!!\")\n",
    "\n",
    "    def range_generator(self):\n",
    "        from random import randint as ri\n",
    "        picked_numbers=[]\n",
    "        local_players = self.p_names\n",
    "        def check_for_repeat(picked_numbers,b):\n",
    "            while b in picked_numbers:\n",
    "                b = ri(1,100)\n",
    "            return b\n",
    "        for i in range(self.n):\n",
    "            a = check_for_repeat(picked_numbers,ri(1,100))\n",
    "            picked_numbers.append(a)          \n",
    "            b = check_for_repeat(picked_numbers,ri(1,100))\n",
    "            picked_numbers.append(b)\n",
    "            self.player_range[local_players[i]] = self.player_range.get(local_players[i],[a,b])  \n",
    "        self.let_them_know()\n",
    "    \n",
    "    def let_them_know(self):\n",
    "        print(\"\\n\\n\")\n",
    "        for i in self.player_range.keys():\n",
    "            print(f\"player {i} got numbers {self.player_range[i][0]} , {self.player_range[i][1]}\")\n",
    "        self.take_guess()\n",
    "            \n",
    "    def take_guess(self):\n",
    "        print(\"\\n\\n\")\n",
    "        for i in self.player_range.keys():\n",
    "            print(f\"Hello!! {i} choose in or out\")\n",
    "            self.player_range[i].append(input())\n",
    "        self.result_display()\n",
    "        \n",
    "    def result_display(self):\n",
    "        print(\"\\n\\n\")\n",
    "        from random import randint as ri\n",
    "        result = ri(1,100)\n",
    "        for i in self.player_range.keys():\n",
    "            a = self.player_range[i][1]\n",
    "            b = self.player_range[i][0]\n",
    "            if a>b:\n",
    "                a,b=b,a\n",
    "            print(f\"Hello {i} \\n The number is {result} your range was {a} , {b} you chose {self.player_range[i][2]} so..\")\n",
    "            if self.player_range[i][2] == \"in\" and a<=result<=b:\n",
    "                print(f\"you won\")\n",
    "            elif self.player_range[i][2] == \"out\" and not(a<=result<=b):\n",
    "                print(f\"you won\")\n",
    "            else:\n",
    "                print(f\"you lost\")\n",
    "                \n",
    "               \n",
    "            \n",
    "    "
   ]
  },
  {
   "cell_type": "code",
   "execution_count": 90,
   "id": "4fc8aa1b",
   "metadata": {},
   "outputs": [
    {
     "name": "stdout",
     "output_type": "stream",
     "text": [
      "enter number of players:3\n",
      "enter player1 name:gg\n",
      "enter player2 name:ff\n",
      "enter player3 name:dd\n",
      "lets begin!!\n",
      "\n",
      "\n",
      "\n",
      "player gg got numbers 63 , 76\n",
      "player ff got numbers 100 , 20\n",
      "player dd got numbers 55 , 3\n",
      "\n",
      "\n",
      "\n",
      "Hello!! gg choose in or out\n",
      "in\n",
      "Hello!! ff choose in or out\n",
      "out\n",
      "Hello!! dd choose in or out\n",
      "in\n",
      "\n",
      "\n",
      "\n",
      "Hello gg \n",
      " The number is 10 your range was 63 , 76 you chose in so..\n",
      "you lost\n",
      "Hello ff \n",
      " The number is 10 your range was 20 , 100 you chose out so..\n",
      "you won\n",
      "Hello dd \n",
      " The number is 10 your range was 3 , 55 you chose in so..\n",
      "you won\n"
     ]
    }
   ],
   "source": [
    "f = inside_out()\n",
    "f.range_generator()"
   ]
  },
  {
   "cell_type": "code",
   "execution_count": null,
   "id": "fccb26bc",
   "metadata": {},
   "outputs": [],
   "source": [
    "pd\n"
   ]
  },
  {
   "cell_type": "code",
   "execution_count": null,
   "id": "8a4f8385",
   "metadata": {},
   "outputs": [],
   "source": []
  },
  {
   "cell_type": "code",
   "execution_count": null,
   "id": "f579088a",
   "metadata": {},
   "outputs": [],
   "source": []
  }
 ],
 "metadata": {
  "kernelspec": {
   "display_name": "Python 3 (ipykernel)",
   "language": "python",
   "name": "python3"
  },
  "language_info": {
   "codemirror_mode": {
    "name": "ipython",
    "version": 3
   },
   "file_extension": ".py",
   "mimetype": "text/x-python",
   "name": "python",
   "nbconvert_exporter": "python",
   "pygments_lexer": "ipython3",
   "version": "3.9.13"
  }
 },
 "nbformat": 4,
 "nbformat_minor": 5
}
